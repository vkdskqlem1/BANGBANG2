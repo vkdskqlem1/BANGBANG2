{
 "cells": [
  {
   "cell_type": "code",
   "execution_count": 21,
   "id": "bc2c8fec",
   "metadata": {},
   "outputs": [
    {
     "name": "stdout",
     "output_type": "stream",
     "text": [
      "[1, 2, 3, 4, 5]\n"
     ]
    }
   ],
   "source": [
    "import shelve\n",
    "def save(key,volue):\n",
    "    with shelve.open('shelve.dot')as d:\n",
    "        d[key] = volue\n",
    "        \n",
    "def get(key):\n",
    "    with shelve.open('shelve.dot')as d:\n",
    "        return d[key]\n",
    "    \n",
    "save('number',[1,2,3,4,5])\n",
    "print(get('number')) #[1,2,3,4,5] 출력\n"
   ]
  },
  {
   "cell_type": "code",
   "execution_count": null,
   "id": "d8aa0144",
   "metadata": {},
   "outputs": [
    {
     "name": "stdout",
     "output_type": "stream",
     "text": [
      "\n",
      "1. 학생 정보 추가\n",
      "2 학생 정보 검색\n",
      "3. 종료\n",
      "선택하세요1\n",
      "학생 번호를 입력하세요 :1\n",
      "학생 이름을 입력하세요 : 1\n",
      "학생 나이를 입력하세요1\n",
      "학생 전공을 입력하세요:1\n",
      "\n",
      "1. 학생 정보 추가\n",
      "2 학생 정보 검색\n",
      "3. 종료\n",
      "선택하세요2\n",
      "검색할 학생 번호를 입력하세요: 1\n",
      "학생 번호: 1, 이름:1, 나이:1, 전공:1\n",
      "\n",
      "1. 학생 정보 추가\n",
      "2 학생 정보 검색\n",
      "3. 종료\n"
     ]
    }
   ],
   "source": [
    "import shelve \n",
    "\n",
    "def add_student_info(student_dict):\n",
    "\n",
    "    student_number= input('학생 번호를 입력하세요 :')\n",
    "    name = input(\"학생 이름을 입력하세요 : \")\n",
    "    age = input('학생 나이를 입력하세요')\n",
    "    major = input('학생 전공을 입력하세요:')\n",
    "\n",
    "# 학생 정보를 딕셔너리에 추가\n",
    "    student_dict[student_number] = {'name':name,'age':age,'major':major}\n",
    "# 검색할 학생 번호 입력 받기\n",
    "def search_student_info(student_dict):\n",
    "    student_number = input(\"검색할 학생 번호를 입력하세요: \")\n",
    "# 학생 정보 출력\n",
    "    if student_number in student_dict:\n",
    "        info = student_dict[student_number]\n",
    "        print(f'학생 번호: {student_number}, 이름:{info[\"name\"]}, 나이:{info[\"age\"]}, 전공:{info[\"major\"]}')\n",
    "    else:\n",
    "            print(\"해당하는 학생의 정보를 찾을 수 없습니다.\")\n",
    "        \n",
    "def main():\n",
    "    # shelve 파일 열기\n",
    "    with shelve.open('student_data')as shelf:\n",
    "    # 저장된 학생 정보가 있는지 확인\n",
    "        if 'students' not in shelf:\n",
    "            shelf['students'] = {}\n",
    "        # 학생 정보 딕셔너리 가져오기\n",
    "        student_dict = shelf['students']\n",
    "        while True:\n",
    "            print('\\n1. 학생 정보 추가')\n",
    "            print('2 학생 정보 검색')\n",
    "            print('3. 종료')\n",
    "\n",
    "            choice = input('선택하세요')\n",
    "\n",
    "            if choice == '1':\n",
    "                add_student_info(student_dict)\n",
    "            elif choice == '2':\n",
    "                search_student_info(student_dict)\n",
    "            elif choice == '3':\n",
    "                break\n",
    "            else:\n",
    "                print('올바른 선택이 아닙니다. 다시 선택해주세요')\n",
    "\n",
    "        shelf['students'] = student_dict\n",
    "\n",
    "if __name__ == \"__main__\":\n",
    "    main()"
   ]
  },
  {
   "cell_type": "code",
   "execution_count": null,
   "id": "53562628",
   "metadata": {},
   "outputs": [],
   "source": []
  }
 ],
 "metadata": {
  "kernelspec": {
   "display_name": "Python 3 (ipykernel)",
   "language": "python",
   "name": "python3"
  },
  "language_info": {
   "codemirror_mode": {
    "name": "ipython",
    "version": 3
   },
   "file_extension": ".py",
   "mimetype": "text/x-python",
   "name": "python",
   "nbconvert_exporter": "python",
   "pygments_lexer": "ipython3",
   "version": "3.10.9"
  }
 },
 "nbformat": 4,
 "nbformat_minor": 5
}
