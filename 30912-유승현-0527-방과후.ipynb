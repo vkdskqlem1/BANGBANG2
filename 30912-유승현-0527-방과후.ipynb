{
 "cells": [
  {
   "cell_type": "code",
   "execution_count": 3,
   "id": "4fa2e582",
   "metadata": {},
   "outputs": [
    {
     "name": "stdout",
     "output_type": "stream",
     "text": [
      "[12, 11, 10, 9, 8]\n"
     ]
    }
   ],
   "source": [
    "list1 = [2,2,2,2,2,6,7,8,9,10]\n",
    "list2 = []\n",
    "for i in range(1, len(list1)//2+1):\n",
    "    list2.append(list1[i-1] + list1[-i])\n",
    "print(list2)"
   ]
  },
  {
   "cell_type": "code",
   "execution_count": 5,
   "id": "b10abe30",
   "metadata": {},
   "outputs": [
    {
     "name": "stdout",
     "output_type": "stream",
     "text": [
      "숫자 입력15\n",
      "[16, 16, 16, 16, 16, 16, 16]\n",
      "112\n"
     ]
    }
   ],
   "source": [
    "number = int(input('숫자 입력'))\n",
    "list1 = []\n",
    "list2 = []\n",
    "sum1 = 0\n",
    "\n",
    "for i in range(number):\n",
    "    list1.append(i+1)\n",
    "for i in range(1,len(list1)//2+1):\n",
    "    list2.append(list1[i-1] + list1[-i])\n",
    "print(list2)\n",
    "for i in range(len(list2)):\n",
    "    sum1 += list2[i]\n",
    "print(sum1)"
   ]
  },
  {
   "cell_type": "code",
   "execution_count": 6,
   "id": "dd59521e",
   "metadata": {},
   "outputs": [],
   "source": [
    "f = open('hello.txt','w')"
   ]
  },
  {
   "cell_type": "code",
   "execution_count": 13,
   "id": "38c157e7",
   "metadata": {},
   "outputs": [
    {
     "name": "stdout",
     "output_type": "stream",
     "text": [
      "인덱싱 할 수 없습니다.\n",
      "무조건 실행 됩니다.\n"
     ]
    }
   ],
   "source": [
    "# many_error.py\n",
    "\n",
    "try:\n",
    "    a = [1,2]\n",
    "    print(a[3])\n",
    "    4/0\n",
    "except ZeroDivisionError:\n",
    "    print(\"0으로 나눌 수 없습니다.\")\n",
    "except IndexError:\n",
    "    print(\"인덱싱 할 수 없습니다.\")\n",
    "finally:\n",
    "    print('무조건 실행 됩니다.')"
   ]
  },
  {
   "cell_type": "code",
   "execution_count": 18,
   "id": "c97b8f01",
   "metadata": {},
   "outputs": [
    {
     "name": "stdout",
     "output_type": "stream",
     "text": [
      "thread 1 startsthread 2 starts\n",
      "thread2 running0\n",
      "\n",
      "thread1 running0\n",
      "thread1 running1\n",
      "thread2 running1\n",
      "thread1 running2\n",
      "thread2 running2\n",
      "thread2 running3\n",
      "thread1 running3\n",
      "thread2 running4thread1 running4\n",
      "\n",
      "thread2 ends\n",
      "thread1 running5\n",
      "thread1 running6\n",
      "thread1 running7\n",
      "thread1 running8\n",
      "thread1 running9\n",
      "thread1 ends\n"
     ]
    }
   ],
   "source": [
    "import threading\n",
    "import time\n",
    "def count(num,t,thread_num):\n",
    "    print(f'thread {thread_num} starts')\n",
    "          \n",
    "    for i in range(num):\n",
    "        print(f'thread{thread_num} running{i}')\n",
    "        time.sleep(t)\n",
    "\n",
    "    print(f'thread{thread_num} ends')\n",
    "thread_1 = threading.Thread(target = count, args = (10,0.1,1))\n",
    "thread_1.start()\n",
    "count(5,0.1,2)"
   ]
  },
  {
   "cell_type": "code",
   "execution_count": null,
   "id": "069be621",
   "metadata": {},
   "outputs": [],
   "source": []
  }
 ],
 "metadata": {
  "kernelspec": {
   "display_name": "Python 3 (ipykernel)",
   "language": "python",
   "name": "python3"
  },
  "language_info": {
   "codemirror_mode": {
    "name": "ipython",
    "version": 3
   },
   "file_extension": ".py",
   "mimetype": "text/x-python",
   "name": "python",
   "nbconvert_exporter": "python",
   "pygments_lexer": "ipython3",
   "version": "3.10.9"
  }
 },
 "nbformat": 4,
 "nbformat_minor": 5
}
