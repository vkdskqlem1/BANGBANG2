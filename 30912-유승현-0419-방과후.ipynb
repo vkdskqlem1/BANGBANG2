{
 "cells": [
  {
   "cell_type": "code",
   "execution_count": 20,
   "id": "c9393484",
   "metadata": {},
   "outputs": [
    {
     "name": "stdout",
     "output_type": "stream",
     "text": [
      "숫자를 입력하세요:2\n"
     ]
    }
   ],
   "source": [
    "num = int(input('숫자를 입력하세요:'))\n",
    "\n",
    "if num > 1:\n",
    "    for i in range(2, num//2+1):\n",
    "        if(num % i) == 0:\n",
    "            print(num, '은(는) 소수가 아닙니다')\n",
    "            break\n",
    "        else:\n",
    "            print(num,'는 소수입니다.')\n",
    "else:\n",
    "    print(num, '는 소수가 아닙니다ㅏ.')"
   ]
  },
  {
   "cell_type": "code",
   "execution_count": 22,
   "id": "6cc2f14b",
   "metadata": {},
   "outputs": [
    {
     "data": {
      "text/plain": [
       "3"
      ]
     },
     "execution_count": 22,
     "metadata": {},
     "output_type": "execute_result"
    }
   ],
   "source": [
    "def add(a,b):\n",
    "    return a + b\n",
    "\n",
    "\n",
    "c = add(1,2)\n",
    "\n",
    "c\n"
   ]
  },
  {
   "cell_type": "code",
   "execution_count": 24,
   "id": "76c2037d",
   "metadata": {},
   "outputs": [
    {
     "data": {
      "text/plain": [
       "6"
      ]
     },
     "execution_count": 24,
     "metadata": {},
     "output_type": "execute_result"
    }
   ],
   "source": [
    "def add(a,b=2):\n",
    "    return a + b\n",
    "\n",
    "\n",
    "def add(a,b,c):\n",
    "    return a + b + c\n",
    "\n",
    "c = add(1,2,3)\n",
    "\n",
    "c"
   ]
  },
  {
   "cell_type": "code",
   "execution_count": 34,
   "id": "76bec2aa",
   "metadata": {},
   "outputs": [
    {
     "data": {
      "text/plain": [
       "3"
      ]
     },
     "execution_count": 34,
     "metadata": {},
     "output_type": "execute_result"
    }
   ],
   "source": [
    "def add(a,b=2):\n",
    "    return a + b\n",
    "\n",
    "\n",
    "def sub(a,b):\n",
    "    return a - b\n",
    "\n",
    "c = add(1,2)\n",
    "\n",
    "def cal(ca,a,b):\n",
    "    if ca=='+':\n",
    "        return a + b\n",
    "    elif ca == '-':\n",
    "        return a - b\n",
    "    else:\n",
    "        return False\n",
    "    \n",
    "cal('+',1,2)\n",
    "c"
   ]
  },
  {
   "cell_type": "code",
   "execution_count": 40,
   "id": "e9b5bcd4",
   "metadata": {},
   "outputs": [
    {
     "data": {
      "text/plain": [
       "2"
      ]
     },
     "execution_count": 40,
     "metadata": {},
     "output_type": "execute_result"
    }
   ],
   "source": [
    "a = 1\n",
    "def vartest():\n",
    "    global a\n",
    "    a = a+1\n",
    "    return a\n",
    "\n",
    "c = vartest()\n",
    "c"
   ]
  },
  {
   "cell_type": "code",
   "execution_count": 41,
   "id": "a008ea9c",
   "metadata": {},
   "outputs": [
    {
     "data": {
      "text/plain": [
       "7"
      ]
     },
     "execution_count": 41,
     "metadata": {},
     "output_type": "execute_result"
    }
   ],
   "source": [
    "add = lambda a,b : a+b\n",
    "result = add(3,4)\n",
    "result"
   ]
  },
  {
   "cell_type": "code",
   "execution_count": 44,
   "id": "a34335e6",
   "metadata": {},
   "outputs": [],
   "source": [
    "f = open('hello.txt','w')\n",
    "\n",
    "for i in range(1,11):\n",
    "    data = '%d lines \\n' %i\n",
    "    f.write(data)\n",
    "f.close()"
   ]
  },
  {
   "cell_type": "code",
   "execution_count": 47,
   "id": "f320a18e",
   "metadata": {},
   "outputs": [
    {
     "name": "stdout",
     "output_type": "stream",
     "text": [
      "1 lines \n",
      "2 lines \n",
      "3 lines \n",
      "4 lines \n",
      "5 lines \n",
      "6 lines \n",
      "7 lines \n",
      "8 lines \n",
      "9 lines \n",
      "10 lines \n"
     ]
    }
   ],
   "source": [
    "f = open('hello.txt','r')\n",
    "\n",
    "while True:\n",
    "    l = f.readline()\n",
    "    if not l: break\n",
    "    print(l, end = '')\n",
    "f.close()"
   ]
  },
  {
   "cell_type": "code",
   "execution_count": 59,
   "id": "241a7fa8",
   "metadata": {},
   "outputs": [],
   "source": [
    "class Calculater:\n",
    "    def __init__(self):\n",
    "        self.result = 0\n",
    "        \n",
    "    def add(self,num):\n",
    "        self.result +=num\n",
    "        return self.result\n",
    "    \n",
    "cal1 = Calculater()\n",
    "cal2 = Calculater()"
   ]
  },
  {
   "cell_type": "code",
   "execution_count": 88,
   "id": "1d838fdf",
   "metadata": {},
   "outputs": [
    {
     "data": {
      "text/plain": [
       "6"
      ]
     },
     "execution_count": 88,
     "metadata": {},
     "output_type": "execute_result"
    }
   ],
   "source": [
    "r1 = cal1.add(3)\n",
    "r1"
   ]
  },
  {
   "cell_type": "code",
   "execution_count": 98,
   "id": "5cec4d17",
   "metadata": {},
   "outputs": [
    {
     "data": {
      "text/plain": [
       "148"
      ]
     },
     "execution_count": 98,
     "metadata": {},
     "output_type": "execute_result"
    }
   ],
   "source": [
    "r2 = cal2.add(4)\n",
    "r2"
   ]
  },
  {
   "cell_type": "code",
   "execution_count": 100,
   "id": "b482e408",
   "metadata": {},
   "outputs": [],
   "source": [
    "class Calculater:\n",
    "    def __init__(self,sum):\n",
    "        self.sum = sum\n",
    "        self.result = 0\n",
    "        \n",
    "    def add(self,num):\n",
    "        self.result = self.sum + num\n",
    "        return self.result\n",
    "    \n",
    "cal1 = Calculater(1)\n",
    "cal2 = Calculater(2)"
   ]
  },
  {
   "cell_type": "code",
   "execution_count": 102,
   "id": "70ed7fcb",
   "metadata": {},
   "outputs": [
    {
     "data": {
      "text/plain": [
       "4"
      ]
     },
     "execution_count": 102,
     "metadata": {},
     "output_type": "execute_result"
    }
   ],
   "source": [
    "r1 = cal1.add(3)\n",
    "r1"
   ]
  },
  {
   "cell_type": "code",
   "execution_count": 104,
   "id": "0edbd8ab",
   "metadata": {},
   "outputs": [],
   "source": [
    "class Calculater:\n",
    "    def __init__(self,sum):\n",
    "        self.sum = sum\n",
    "        self.result = 0\n",
    "        \n",
    "    def add(self,num):\n",
    "        result = self.sum + num\n",
    "        return self.result\n",
    "    \n",
    "cal1 = Calculater(1)\n",
    "cal2 = Calculater(2)"
   ]
  }
 ],
 "metadata": {
  "kernelspec": {
   "display_name": "Python 3 (ipykernel)",
   "language": "python",
   "name": "python3"
  },
  "language_info": {
   "codemirror_mode": {
    "name": "ipython",
    "version": 3
   },
   "file_extension": ".py",
   "mimetype": "text/x-python",
   "name": "python",
   "nbconvert_exporter": "python",
   "pygments_lexer": "ipython3",
   "version": "3.10.9"
  }
 },
 "nbformat": 4,
 "nbformat_minor": 5
}
